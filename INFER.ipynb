{
 "cells": [
  {
   "cell_type": "code",
   "execution_count": null,
   "metadata": {},
   "outputs": [],
   "source": [
    "detr_path = '/home/sworkspace/results/ab_car_validation_germany/riders/Co-DETR/2w_misses_codetr/co_detr.tsv'"
   ]
  },
  {
   "cell_type": "code",
   "execution_count": null,
   "metadata": {},
   "outputs": [],
   "source": [
    "import glob\n",
    "import pandas as pd\n",
    "import pickle\n",
    "import os\n",
    "\n",
    "pickles_path = '/home/ubuntu/workspace/results/ab_car_validation_germany/riders/Co-DETR/all/backlog/Co-DETR/raw_detections/pickles'\n",
    "output_path = '/home/ubuntu/workspace/results/ab_car_validation_germany/riders/Co-DETR/all/backlog/Co-DETR'\n",
    "\n",
    "def parse_pickles_to_dataframe():\n",
    "    data = []\n",
    "    for path in glob.iglob(f\"{pickles_path}/*.pickle\"):\n",
    "        with open(path, 'rb') as file:\n",
    "            detections = pickle.load(file)\n",
    "            for detection in detections:\n",
    "                bbox_str = str(detection.bbox)\n",
    "                coords_str = bbox_str[bbox_str.index('<')+1:bbox_str.index('>')].split(',')[0:4]\n",
    "                x1, y1, x2, y2 = map(float, [coord.strip(\"()\") for coord in coords_str])\n",
    "                x_center = (x1 + x2) / 2\n",
    "                y_center = (y1 + y2) / 2\n",
    "                width = x2 - x1\n",
    "                height = y2 - y1\n",
    "                label = detection.category.id\n",
    "                if label in [0, 1, 2, 3, 5, 7]:\n",
    "                    if label in [1, 3]:\n",
    "                        label = 1\n",
    "                    elif label in [2, 5, 7]:\n",
    "                        label = 2\n",
    "                    score = detection.score.value*100\n",
    "                    filename = os.path.basename(path)\n",
    "                    data.append((filename.replace('.pickle', '.png'), x_center, y_center, width, height, label, score))\n",
    "                    \n",
    "    df = pd.DataFrame(data, columns=['name', 'x_center', 'y_center', 'width', 'height', 'label', 'score'])\n",
    "    df[['is_occluded', 'is_truncated', 'd3_separation', 'is_rider_on_2_wheels']] = 0\n",
    "    df[['l_label', 'r_label']] = 'None'\n",
    "    df['threshold'] = 'None'\n",
    "    df.to_csv(f\"{output_path}/co_detr.tsv\", sep='\\t',index=False)\n",
    "    print(f\"{output_path}/co_detr.tsv\")"
   ]
  },
  {
   "cell_type": "code",
   "execution_count": null,
   "metadata": {},
   "outputs": [],
   "source": [
    "parse_pickles_to_dataframe()"
   ]
  },
  {
   "cell_type": "code",
   "execution_count": null,
   "metadata": {},
   "outputs": [],
   "source": [
    "import pandas as pd"
   ]
  },
  {
   "cell_type": "code",
   "execution_count": null,
   "metadata": {},
   "outputs": [],
   "source": [
    "detr = pd.read_csv(f\"{output_path}/co_detr.tsv\", sep='\\t')\n",
    "detr['label'].value_counts()"
   ]
  },
  {
   "cell_type": "code",
   "execution_count": null,
   "metadata": {},
   "outputs": [],
   "source": [
    "det = pd.read_csv('/home/ubuntu/workspace/results/ab_car_validation_germany/docker/2023_07_26__20_32/b2b_det.tsv', sep='\\t')\n",
    "det['label'].value_counts()"
   ]
  },
  {
   "cell_type": "code",
   "execution_count": null,
   "metadata": {},
   "outputs": [],
   "source": []
  }
 ],
 "metadata": {
  "kernelspec": {
   "display_name": "openmmlab",
   "language": "python",
   "name": "python3"
  },
  "language_info": {
   "codemirror_mode": {
    "name": "ipython",
    "version": 3
   },
   "file_extension": ".py",
   "mimetype": "text/x-python",
   "name": "python",
   "nbconvert_exporter": "python",
   "pygments_lexer": "ipython3",
   "version": "3.8.16"
  },
  "orig_nbformat": 4
 },
 "nbformat": 4,
 "nbformat_minor": 2
}
