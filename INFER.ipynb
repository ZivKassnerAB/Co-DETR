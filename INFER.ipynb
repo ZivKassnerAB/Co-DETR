{
 "cells": [
  {
   "cell_type": "markdown",
   "metadata": {},
   "source": [
    "# Co-DETR\n",
    "\n",
    "https://github.com/sense-x/co-detr"
   ]
  },
  {
   "cell_type": "code",
   "execution_count": 1,
   "metadata": {},
   "outputs": [],
   "source": [
    "# download weights for: co_dino_5scale_lsj_swin_large_1x_coco.pth\n",
    "# import gdown\n",
    "# !gdown 'https://drive.google.com/uc?id=1h8O08FzxzerRjNa_GhrSobCZ0-pwxYxa'\n",
    "# !gdown 'https://drive.google.com/uc?id=1mYoscJk00Q0KSLxW6ndg9on3o55TCfcg'"
   ]
  },
  {
   "cell_type": "code",
   "execution_count": 10,
   "metadata": {},
   "outputs": [],
   "source": [
    "import sys\n",
    "import torch\n",
    "import pickle\n",
    "\n",
    "from mmdet.apis import init_detector, inference_detector, show_result_pyplot\n",
    "import mmcv_custom\n",
    "import cv2\n",
    "from sahi.predict import get_sliced_prediction\n",
    "from sahi import AutoDetectionModel\n",
    "from IPython.display import Image\n",
    "from sahi import AutoDetectionModel\n",
    "from sahi.predict import get_sliced_prediction, predict, get_prediction\n",
    "torch.cuda.empty_cache()\n",
    "\n",
    "\n",
    "device = torch.device(\"cuda:0\" if torch.cuda.is_available() else \"cpu\")"
   ]
  },
  {
   "cell_type": "code",
   "execution_count": 8,
   "metadata": {},
   "outputs": [],
   "source": [
    "images_dir = '/home/ubuntu/workspace/datasets/ab_car_validation_germany/images'\n",
    "image_name = '1662979708567397.png'\n",
    "image_path = f\"{images_dir}/{image_name}\"\n",
    "misses_path = '/home/ubuntu/workspace/datasets/ab_car_validation_germany/2w_misses_samp'\n",
    "output_path = '/home/ubuntu/workspace/results/ab_car_validation_germany/riders/Co-DETR'"
   ]
  },
  {
   "cell_type": "code",
   "execution_count": 4,
   "metadata": {},
   "outputs": [],
   "source": [
    "config_path = '/home/ubuntu/git/Co-DETR/projects/configs/co_dino/co_dino_5scale_lsj_swin_large_3x_coco.py'\n",
    "model_path = '/home/ubuntu/git/Co-DETR/co_dino_5scale_lsj_swin_large_3x_coco.pth'"
   ]
  },
  {
   "cell_type": "code",
   "execution_count": 5,
   "metadata": {},
   "outputs": [
    {
     "name": "stderr",
     "output_type": "stream",
     "text": [
      "/opt/conda/envs/sahi/lib/python3.8/site-packages/torch/functional.py:504: UserWarning: torch.meshgrid: in an upcoming release, it will be required to pass the indexing argument. (Triggered internally at /opt/conda/conda-bld/pytorch_1682343962757/work/aten/src/ATen/native/TensorShape.cpp:3483.)\n",
      "  return _VF.meshgrid(tensors, **kwargs)  # type: ignore[attr-defined]\n",
      "2023-08-14 17:04:22,083 - mmcv - INFO - initialize RPNHead with init_cfg {'type': 'Normal', 'layer': 'Conv2d', 'std': 0.01}\n",
      "2023-08-14 17:04:22,090 - mmcv - INFO - \n",
      "rpn_conv.weight - torch.Size([256, 256, 3, 3]): \n",
      "NormalInit: mean=0, std=0.01, bias=0 \n",
      " \n",
      "2023-08-14 17:04:22,090 - mmcv - INFO - \n",
      "rpn_conv.bias - torch.Size([256]): \n",
      "NormalInit: mean=0, std=0.01, bias=0 \n",
      " \n",
      "2023-08-14 17:04:22,091 - mmcv - INFO - \n",
      "rpn_cls.weight - torch.Size([9, 256, 1, 1]): \n",
      "NormalInit: mean=0, std=0.01, bias=0 \n",
      " \n",
      "2023-08-14 17:04:22,091 - mmcv - INFO - \n",
      "rpn_cls.bias - torch.Size([9]): \n",
      "NormalInit: mean=0, std=0.01, bias=0 \n",
      " \n",
      "2023-08-14 17:04:22,092 - mmcv - INFO - \n",
      "rpn_reg.weight - torch.Size([36, 256, 1, 1]): \n",
      "NormalInit: mean=0, std=0.01, bias=0 \n",
      " \n",
      "2023-08-14 17:04:22,092 - mmcv - INFO - \n",
      "rpn_reg.bias - torch.Size([36]): \n",
      "NormalInit: mean=0, std=0.01, bias=0 \n",
      " \n",
      "2023-08-14 17:04:22,208 - mmcv - INFO - initialize Shared2FCBBoxHead with init_cfg [{'type': 'Normal', 'std': 0.01, 'override': {'name': 'fc_cls'}}, {'type': 'Normal', 'std': 0.001, 'override': {'name': 'fc_reg'}}, {'type': 'Xavier', 'distribution': 'uniform', 'override': [{'name': 'shared_fcs'}, {'name': 'cls_fcs'}, {'name': 'reg_fcs'}]}]\n",
      "2023-08-14 17:04:22,312 - mmcv - INFO - \n",
      "bbox_head.fc_cls.weight - torch.Size([81, 1024]): \n",
      "NormalInit: mean=0, std=0.01, bias=0 \n",
      " \n",
      "2023-08-14 17:04:22,313 - mmcv - INFO - \n",
      "bbox_head.fc_cls.bias - torch.Size([81]): \n",
      "NormalInit: mean=0, std=0.01, bias=0 \n",
      " \n",
      "2023-08-14 17:04:22,314 - mmcv - INFO - \n",
      "bbox_head.fc_reg.weight - torch.Size([320, 1024]): \n",
      "NormalInit: mean=0, std=0.001, bias=0 \n",
      " \n",
      "2023-08-14 17:04:22,314 - mmcv - INFO - \n",
      "bbox_head.fc_reg.bias - torch.Size([320]): \n",
      "NormalInit: mean=0, std=0.001, bias=0 \n",
      " \n",
      "2023-08-14 17:04:22,315 - mmcv - INFO - \n",
      "bbox_head.shared_fcs.0.weight - torch.Size([1024, 12544]): \n",
      "XavierInit: gain=1, distribution=uniform, bias=0 \n",
      " \n",
      "2023-08-14 17:04:22,315 - mmcv - INFO - \n",
      "bbox_head.shared_fcs.0.bias - torch.Size([1024]): \n",
      "XavierInit: gain=1, distribution=uniform, bias=0 \n",
      " \n",
      "2023-08-14 17:04:22,316 - mmcv - INFO - \n",
      "bbox_head.shared_fcs.1.weight - torch.Size([1024, 1024]): \n",
      "XavierInit: gain=1, distribution=uniform, bias=0 \n",
      " \n",
      "2023-08-14 17:04:22,316 - mmcv - INFO - \n",
      "bbox_head.shared_fcs.1.bias - torch.Size([1024]): \n",
      "XavierInit: gain=1, distribution=uniform, bias=0 \n",
      " \n",
      "/home/ubuntu/git/Co-DETR/mmdet/models/dense_heads/anchor_head.py:116: UserWarning: DeprecationWarning: `num_anchors` is deprecated, for consistency or also use `num_base_priors` instead\n",
      "  warnings.warn('DeprecationWarning: `num_anchors` is deprecated, '\n",
      "2023-08-14 17:04:22,342 - mmcv - INFO - initialize CoATSSHead with init_cfg {'type': 'Normal', 'layer': 'Conv2d', 'std': 0.01, 'override': {'type': 'Normal', 'name': 'atss_cls', 'std': 0.01, 'bias_prob': 0.01}}\n",
      "2023-08-14 17:04:22,357 - mmcv - INFO - \n",
      "cls_convs.0.conv.weight - torch.Size([256, 256, 3, 3]): \n",
      "NormalInit: mean=0, std=0.01, bias=0 \n",
      " \n",
      "2023-08-14 17:04:22,357 - mmcv - INFO - \n",
      "cls_convs.0.gn.weight - torch.Size([256]): \n",
      "The value is the same before and after calling `init_weights` of CoATSSHead  \n",
      " \n",
      "2023-08-14 17:04:22,358 - mmcv - INFO - \n",
      "cls_convs.0.gn.bias - torch.Size([256]): \n",
      "The value is the same before and after calling `init_weights` of CoATSSHead  \n",
      " \n",
      "2023-08-14 17:04:22,358 - mmcv - INFO - \n",
      "reg_convs.0.conv.weight - torch.Size([256, 256, 3, 3]): \n",
      "NormalInit: mean=0, std=0.01, bias=0 \n",
      " \n",
      "2023-08-14 17:04:22,359 - mmcv - INFO - \n",
      "reg_convs.0.gn.weight - torch.Size([256]): \n",
      "The value is the same before and after calling `init_weights` of CoATSSHead  \n",
      " \n",
      "2023-08-14 17:04:22,359 - mmcv - INFO - \n",
      "reg_convs.0.gn.bias - torch.Size([256]): \n",
      "The value is the same before and after calling `init_weights` of CoATSSHead  \n",
      " \n",
      "2023-08-14 17:04:22,359 - mmcv - INFO - \n",
      "atss_cls.weight - torch.Size([80, 256, 3, 3]): \n",
      "NormalInit: mean=0, std=0.01, bias=-4.59511985013459 \n",
      " \n",
      "2023-08-14 17:04:22,360 - mmcv - INFO - \n",
      "atss_cls.bias - torch.Size([80]): \n",
      "NormalInit: mean=0, std=0.01, bias=-4.59511985013459 \n",
      " \n",
      "2023-08-14 17:04:22,360 - mmcv - INFO - \n",
      "atss_reg.weight - torch.Size([4, 256, 3, 3]): \n",
      "NormalInit: mean=0, std=0.01, bias=0 \n",
      " \n",
      "2023-08-14 17:04:22,361 - mmcv - INFO - \n",
      "atss_reg.bias - torch.Size([4]): \n",
      "NormalInit: mean=0, std=0.01, bias=0 \n",
      " \n",
      "2023-08-14 17:04:22,361 - mmcv - INFO - \n",
      "atss_centerness.weight - torch.Size([1, 256, 3, 3]): \n",
      "NormalInit: mean=0, std=0.01, bias=0 \n",
      " \n",
      "2023-08-14 17:04:22,362 - mmcv - INFO - \n",
      "atss_centerness.bias - torch.Size([1]): \n",
      "NormalInit: mean=0, std=0.01, bias=0 \n",
      " \n",
      "2023-08-14 17:04:22,362 - mmcv - INFO - \n",
      "scales.0.scale - torch.Size([]): \n",
      "The value is the same before and after calling `init_weights` of CoATSSHead  \n",
      " \n",
      "2023-08-14 17:04:22,363 - mmcv - INFO - \n",
      "scales.1.scale - torch.Size([]): \n",
      "The value is the same before and after calling `init_weights` of CoATSSHead  \n",
      " \n",
      "2023-08-14 17:04:22,363 - mmcv - INFO - \n",
      "scales.2.scale - torch.Size([]): \n",
      "The value is the same before and after calling `init_weights` of CoATSSHead  \n",
      " \n",
      "2023-08-14 17:04:22,363 - mmcv - INFO - \n",
      "scales.3.scale - torch.Size([]): \n",
      "The value is the same before and after calling `init_weights` of CoATSSHead  \n",
      " \n",
      "2023-08-14 17:04:22,364 - mmcv - INFO - \n",
      "scales.4.scale - torch.Size([]): \n",
      "The value is the same before and after calling `init_weights` of CoATSSHead  \n",
      " \n",
      "2023-08-14 17:04:22,364 - mmcv - INFO - \n",
      "scales.5.scale - torch.Size([]): \n",
      "The value is the same before and after calling `init_weights` of CoATSSHead  \n",
      " \n",
      "/home/ubuntu/git/Co-DETR/mmdet/apis/inference.py:52: UserWarning: Class names are not saved in the checkpoint's meta data, use COCO classes by default.\n",
      "  warnings.warn('Class names are not saved in the checkpoint\\'s '\n"
     ]
    }
   ],
   "source": [
    "detection_model = AutoDetectionModel.from_pretrained(\n",
    "    model_type='mmdet',\n",
    "    model_path=model_path,\n",
    "    config_path=config_path,\n",
    "    confidence_threshold=0.1,\n",
    "    device=\"cuda\"\n",
    ")"
   ]
  },
  {
   "cell_type": "markdown",
   "metadata": {},
   "source": [
    "result = get_sliced_prediction(\n",
    "    image_path,\n",
    "    detection_model,\n",
    "    slice_height = 1280,\n",
    "    slice_width = 1280,\n",
    "    overlap_height_ratio = 0.1,\n",
    "    overlap_width_ratio = 0.1,\n",
    ")"
   ]
  },
  {
   "cell_type": "code",
   "execution_count": null,
   "metadata": {},
   "outputs": [],
   "source": [
    "filter_classes = [1]\n",
    "\n",
    "filtered_object_prediction_list = [\n",
    "    pred for pred in result.object_prediction_list if pred.category.id in filter_classes\n",
    "]\n",
    "\n",
    "result.object_prediction_list = filtered_object_prediction_list"
   ]
  },
  {
   "cell_type": "code",
   "execution_count": null,
   "metadata": {},
   "outputs": [],
   "source": [
    "result.export_visuals(export_dir=\"demo_data/\")\n",
    "\n",
    "Image(\"demo_data/prediction_visual.png\")"
   ]
  },
  {
   "cell_type": "code",
   "execution_count": null,
   "metadata": {},
   "outputs": [],
   "source": [
    "result.to_coco_predictions()"
   ]
  },
  {
   "cell_type": "markdown",
   "metadata": {},
   "source": [
    "## Batch prediction"
   ]
  },
  {
   "cell_type": "code",
   "execution_count": 9,
   "metadata": {},
   "outputs": [
    {
     "name": "stdout",
     "output_type": "stream",
     "text": [
      "There are 10 listed files in folder: 2w_misses_samp/\n"
     ]
    },
    {
     "name": "stderr",
     "output_type": "stream",
     "text": [
      "/opt/conda/envs/sahi/lib/python3.8/site-packages/mmcv/cnn/bricks/transformer.py:690: DeprecationWarning: The arguments `feedforward_channels` in BaseTransformerLayer has been deprecated, now you should set `feedforward_channels` and other FFN related arguments to a dict named `ffn_cfgs`. \n",
      "  warnings.warn(\n",
      "/opt/conda/envs/sahi/lib/python3.8/site-packages/mmcv/cnn/bricks/transformer.py:690: DeprecationWarning: The arguments `ffn_dropout` in BaseTransformerLayer has been deprecated, now you should set `ffn_drop` and other FFN related arguments to a dict named `ffn_cfgs`. \n",
      "  warnings.warn(\n",
      "/opt/conda/envs/sahi/lib/python3.8/site-packages/mmcv/cnn/bricks/transformer.py:690: DeprecationWarning: The arguments `ffn_num_fcs` in BaseTransformerLayer has been deprecated, now you should set `num_fcs` and other FFN related arguments to a dict named `ffn_cfgs`. \n",
      "  warnings.warn(\n",
      "/opt/conda/envs/sahi/lib/python3.8/site-packages/mmcv/cnn/bricks/transformer.py:440: DeprecationWarning: The arguments `dropout` in MultiheadAttention has been deprecated, now you can separately set `attn_drop`(float), proj_drop(float), and `dropout_layer`(dict) \n",
      "  warnings.warn(\n",
      "2023-08-14 17:19:07,245 - mmcv - INFO - initialize RPNHead with init_cfg {'type': 'Normal', 'layer': 'Conv2d', 'std': 0.01}\n",
      "2023-08-14 17:19:07,251 - mmcv - INFO - \n",
      "rpn_conv.weight - torch.Size([256, 256, 3, 3]): \n",
      "NormalInit: mean=0, std=0.01, bias=0 \n",
      " \n",
      "2023-08-14 17:19:07,252 - mmcv - INFO - \n",
      "rpn_conv.bias - torch.Size([256]): \n",
      "NormalInit: mean=0, std=0.01, bias=0 \n",
      " \n",
      "2023-08-14 17:19:07,252 - mmcv - INFO - \n",
      "rpn_cls.weight - torch.Size([9, 256, 1, 1]): \n",
      "NormalInit: mean=0, std=0.01, bias=0 \n",
      " \n",
      "2023-08-14 17:19:07,253 - mmcv - INFO - \n",
      "rpn_cls.bias - torch.Size([9]): \n",
      "NormalInit: mean=0, std=0.01, bias=0 \n",
      " \n",
      "2023-08-14 17:19:07,253 - mmcv - INFO - \n",
      "rpn_reg.weight - torch.Size([36, 256, 1, 1]): \n",
      "NormalInit: mean=0, std=0.01, bias=0 \n",
      " \n",
      "2023-08-14 17:19:07,254 - mmcv - INFO - \n",
      "rpn_reg.bias - torch.Size([36]): \n",
      "NormalInit: mean=0, std=0.01, bias=0 \n",
      " \n",
      "2023-08-14 17:19:07,379 - mmcv - INFO - initialize Shared2FCBBoxHead with init_cfg [{'type': 'Normal', 'std': 0.01, 'override': {'name': 'fc_cls'}}, {'type': 'Normal', 'std': 0.001, 'override': {'name': 'fc_reg'}}, {'type': 'Xavier', 'distribution': 'uniform', 'override': [{'name': 'shared_fcs'}, {'name': 'cls_fcs'}, {'name': 'reg_fcs'}]}]\n",
      "2023-08-14 17:19:07,515 - mmcv - INFO - \n",
      "bbox_head.fc_cls.weight - torch.Size([81, 1024]): \n",
      "NormalInit: mean=0, std=0.01, bias=0 \n",
      " \n",
      "2023-08-14 17:19:07,516 - mmcv - INFO - \n",
      "bbox_head.fc_cls.bias - torch.Size([81]): \n",
      "NormalInit: mean=0, std=0.01, bias=0 \n",
      " \n",
      "2023-08-14 17:19:07,516 - mmcv - INFO - \n",
      "bbox_head.fc_reg.weight - torch.Size([320, 1024]): \n",
      "NormalInit: mean=0, std=0.001, bias=0 \n",
      " \n",
      "2023-08-14 17:19:07,517 - mmcv - INFO - \n",
      "bbox_head.fc_reg.bias - torch.Size([320]): \n",
      "NormalInit: mean=0, std=0.001, bias=0 \n",
      " \n",
      "2023-08-14 17:19:07,518 - mmcv - INFO - \n",
      "bbox_head.shared_fcs.0.weight - torch.Size([1024, 12544]): \n",
      "XavierInit: gain=1, distribution=uniform, bias=0 \n",
      " \n",
      "2023-08-14 17:19:07,518 - mmcv - INFO - \n",
      "bbox_head.shared_fcs.0.bias - torch.Size([1024]): \n",
      "XavierInit: gain=1, distribution=uniform, bias=0 \n",
      " \n",
      "2023-08-14 17:19:07,518 - mmcv - INFO - \n",
      "bbox_head.shared_fcs.1.weight - torch.Size([1024, 1024]): \n",
      "XavierInit: gain=1, distribution=uniform, bias=0 \n",
      " \n",
      "2023-08-14 17:19:07,519 - mmcv - INFO - \n",
      "bbox_head.shared_fcs.1.bias - torch.Size([1024]): \n",
      "XavierInit: gain=1, distribution=uniform, bias=0 \n",
      " \n",
      "/home/ubuntu/git/Co-DETR/mmdet/models/dense_heads/anchor_head.py:116: UserWarning: DeprecationWarning: `num_anchors` is deprecated, for consistency or also use `num_base_priors` instead\n",
      "  warnings.warn('DeprecationWarning: `num_anchors` is deprecated, '\n",
      "2023-08-14 17:19:07,536 - mmcv - INFO - initialize CoATSSHead with init_cfg {'type': 'Normal', 'layer': 'Conv2d', 'std': 0.01, 'override': {'type': 'Normal', 'name': 'atss_cls', 'std': 0.01, 'bias_prob': 0.01}}\n",
      "2023-08-14 17:19:07,550 - mmcv - INFO - \n",
      "cls_convs.0.conv.weight - torch.Size([256, 256, 3, 3]): \n",
      "NormalInit: mean=0, std=0.01, bias=0 \n",
      " \n",
      "2023-08-14 17:19:07,550 - mmcv - INFO - \n",
      "cls_convs.0.gn.weight - torch.Size([256]): \n",
      "The value is the same before and after calling `init_weights` of CoATSSHead  \n",
      " \n",
      "2023-08-14 17:19:07,551 - mmcv - INFO - \n",
      "cls_convs.0.gn.bias - torch.Size([256]): \n",
      "The value is the same before and after calling `init_weights` of CoATSSHead  \n",
      " \n",
      "2023-08-14 17:19:07,551 - mmcv - INFO - \n",
      "reg_convs.0.conv.weight - torch.Size([256, 256, 3, 3]): \n",
      "NormalInit: mean=0, std=0.01, bias=0 \n",
      " \n",
      "2023-08-14 17:19:07,552 - mmcv - INFO - \n",
      "reg_convs.0.gn.weight - torch.Size([256]): \n",
      "The value is the same before and after calling `init_weights` of CoATSSHead  \n",
      " \n",
      "2023-08-14 17:19:07,553 - mmcv - INFO - \n",
      "reg_convs.0.gn.bias - torch.Size([256]): \n",
      "The value is the same before and after calling `init_weights` of CoATSSHead  \n",
      " \n",
      "2023-08-14 17:19:07,553 - mmcv - INFO - \n",
      "atss_cls.weight - torch.Size([80, 256, 3, 3]): \n",
      "NormalInit: mean=0, std=0.01, bias=-4.59511985013459 \n",
      " \n",
      "2023-08-14 17:19:07,554 - mmcv - INFO - \n",
      "atss_cls.bias - torch.Size([80]): \n",
      "NormalInit: mean=0, std=0.01, bias=-4.59511985013459 \n",
      " \n",
      "2023-08-14 17:19:07,554 - mmcv - INFO - \n",
      "atss_reg.weight - torch.Size([4, 256, 3, 3]): \n",
      "NormalInit: mean=0, std=0.01, bias=0 \n",
      " \n",
      "2023-08-14 17:19:07,555 - mmcv - INFO - \n",
      "atss_reg.bias - torch.Size([4]): \n",
      "NormalInit: mean=0, std=0.01, bias=0 \n",
      " \n",
      "2023-08-14 17:19:07,555 - mmcv - INFO - \n",
      "atss_centerness.weight - torch.Size([1, 256, 3, 3]): \n",
      "NormalInit: mean=0, std=0.01, bias=0 \n",
      " \n",
      "2023-08-14 17:19:07,556 - mmcv - INFO - \n",
      "atss_centerness.bias - torch.Size([1]): \n",
      "NormalInit: mean=0, std=0.01, bias=0 \n",
      " \n",
      "2023-08-14 17:19:07,556 - mmcv - INFO - \n",
      "scales.0.scale - torch.Size([]): \n",
      "The value is the same before and after calling `init_weights` of CoATSSHead  \n",
      " \n",
      "2023-08-14 17:19:07,556 - mmcv - INFO - \n",
      "scales.1.scale - torch.Size([]): \n",
      "The value is the same before and after calling `init_weights` of CoATSSHead  \n",
      " \n",
      "2023-08-14 17:19:07,557 - mmcv - INFO - \n",
      "scales.2.scale - torch.Size([]): \n",
      "The value is the same before and after calling `init_weights` of CoATSSHead  \n",
      " \n",
      "2023-08-14 17:19:07,557 - mmcv - INFO - \n",
      "scales.3.scale - torch.Size([]): \n",
      "The value is the same before and after calling `init_weights` of CoATSSHead  \n",
      " \n",
      "2023-08-14 17:19:07,558 - mmcv - INFO - \n",
      "scales.4.scale - torch.Size([]): \n",
      "The value is the same before and after calling `init_weights` of CoATSSHead  \n",
      " \n",
      "2023-08-14 17:19:07,558 - mmcv - INFO - \n",
      "scales.5.scale - torch.Size([]): \n",
      "The value is the same before and after calling `init_weights` of CoATSSHead  \n",
      " \n",
      "/home/ubuntu/git/Co-DETR/mmdet/apis/inference.py:52: UserWarning: Class names are not saved in the checkpoint's meta data, use COCO classes by default.\n",
      "  warnings.warn('Class names are not saved in the checkpoint\\'s '\n",
      "Performing inference on images:   0%|          | 0/10 [00:00<?, ?it/s]/home/ubuntu/git/Co-DETR/mmdet/datasets/utils.py:66: UserWarning: \"ImageToTensor\" pipeline is replaced by \"DefaultFormatBundle\" for batch inference. It is recommended to manually replace it in the test data pipeline in your config file.\n",
      "  warnings.warn(\n"
     ]
    },
    {
     "name": "stdout",
     "output_type": "stream",
     "text": [
      "Performing prediction on 8 number of slices.\n"
     ]
    },
    {
     "name": "stderr",
     "output_type": "stream",
     "text": [
      "Performing inference on images:  10%|█         | 1/10 [00:05<00:52,  5.83s/it]"
     ]
    },
    {
     "name": "stdout",
     "output_type": "stream",
     "text": [
      "Prediction time is: 5683.31 ms\n",
      "Performing prediction on 8 number of slices.\n"
     ]
    },
    {
     "name": "stderr",
     "output_type": "stream",
     "text": [
      "Performing inference on images:  20%|██        | 2/10 [00:11<00:46,  5.82s/it]"
     ]
    },
    {
     "name": "stdout",
     "output_type": "stream",
     "text": [
      "Prediction time is: 5668.60 ms\n",
      "Performing prediction on 8 number of slices.\n"
     ]
    },
    {
     "name": "stderr",
     "output_type": "stream",
     "text": [
      "Performing inference on images:  30%|███       | 3/10 [00:17<00:40,  5.82s/it]"
     ]
    },
    {
     "name": "stdout",
     "output_type": "stream",
     "text": [
      "Prediction time is: 5682.09 ms\n",
      "Performing prediction on 8 number of slices.\n"
     ]
    },
    {
     "name": "stderr",
     "output_type": "stream",
     "text": [
      "Performing inference on images:  40%|████      | 4/10 [00:23<00:35,  5.85s/it]"
     ]
    },
    {
     "name": "stdout",
     "output_type": "stream",
     "text": [
      "Prediction time is: 5759.74 ms\n",
      "Performing prediction on 8 number of slices.\n"
     ]
    },
    {
     "name": "stderr",
     "output_type": "stream",
     "text": [
      "Performing inference on images:  50%|█████     | 5/10 [00:29<00:29,  5.84s/it]"
     ]
    },
    {
     "name": "stdout",
     "output_type": "stream",
     "text": [
      "Prediction time is: 5692.24 ms\n",
      "Performing prediction on 8 number of slices.\n"
     ]
    },
    {
     "name": "stderr",
     "output_type": "stream",
     "text": [
      "Performing inference on images:  60%|██████    | 6/10 [00:35<00:23,  5.84s/it]"
     ]
    },
    {
     "name": "stdout",
     "output_type": "stream",
     "text": [
      "Prediction time is: 5700.10 ms\n",
      "Performing prediction on 8 number of slices.\n"
     ]
    },
    {
     "name": "stderr",
     "output_type": "stream",
     "text": [
      "Performing inference on images:  70%|███████   | 7/10 [00:40<00:17,  5.83s/it]"
     ]
    },
    {
     "name": "stdout",
     "output_type": "stream",
     "text": [
      "Prediction time is: 5687.54 ms\n",
      "Performing prediction on 8 number of slices.\n"
     ]
    },
    {
     "name": "stderr",
     "output_type": "stream",
     "text": [
      "Performing inference on images:  80%|████████  | 8/10 [00:46<00:11,  5.83s/it]"
     ]
    },
    {
     "name": "stdout",
     "output_type": "stream",
     "text": [
      "Prediction time is: 5663.94 ms\n",
      "Performing prediction on 8 number of slices.\n"
     ]
    },
    {
     "name": "stderr",
     "output_type": "stream",
     "text": [
      "Performing inference on images:  90%|█████████ | 9/10 [00:52<00:05,  5.83s/it]"
     ]
    },
    {
     "name": "stdout",
     "output_type": "stream",
     "text": [
      "Prediction time is: 5696.17 ms\n",
      "Performing prediction on 8 number of slices.\n"
     ]
    },
    {
     "name": "stderr",
     "output_type": "stream",
     "text": [
      "Performing inference on images: 100%|██████████| 10/10 [00:58<00:00,  5.83s/it]"
     ]
    },
    {
     "name": "stdout",
     "output_type": "stream",
     "text": [
      "Prediction time is: 5719.80 ms\n",
      "Prediction results are successfully exported to /home/ubuntu/workspace/results/ab_car_validation_germany/riders/Co-DETR/2w_misses_codetr\n"
     ]
    },
    {
     "name": "stderr",
     "output_type": "stream",
     "text": [
      "\n"
     ]
    }
   ],
   "source": [
    "predict(\n",
    "    model_type='mmdet',\n",
    "    model_path=model_path,\n",
    "    model_config_path=config_path,\n",
    "    model_device=device,\n",
    "    model_confidence_threshold=0.1,\n",
    "    source=misses_path,\n",
    "    slice_height=1280,\n",
    "    slice_width=1280,\n",
    "    overlap_height_ratio=0.1,\n",
    "    overlap_width_ratio=0.1,\n",
    "    novisual=True, \n",
    "    export_pickle=True,\n",
    "    project=output_path,\n",
    "    name='2w_misses_codetr', \n",
    ")"
   ]
  },
  {
   "cell_type": "code",
   "execution_count": 22,
   "metadata": {},
   "outputs": [
    {
     "data": {
      "text/plain": [
       "ObjectPrediction<\n",
       "    bbox: BoundingBox: <(2150.124755859375, 953.7595520019531, 2158.8997802734375, 978.3186645507812), w: 8.7750244140625, h: 24.559112548828125>,\n",
       "    mask: None,\n",
       "    score: PredictionScore: <value: 0.3924614191055298>,\n",
       "    category: Category: <id: 0, name: person>>"
      ]
     },
     "execution_count": 22,
     "metadata": {},
     "output_type": "execute_result"
    }
   ],
   "source": [
    "detections[0]"
   ]
  },
  {
   "cell_type": "code",
   "execution_count": 37,
   "metadata": {},
   "outputs": [],
   "source": [
    "import os\n",
    "import pickle\n",
    "import pandas as pd\n",
    "\n",
    "def parse_pickles_to_dataframe(folder_path):\n",
    "    data = []\n",
    "    for filename in os.listdir(folder_path):\n",
    "        if filename.endswith('.pickle'):\n",
    "            with open(os.path.join(folder_path, filename), 'rb') as file:\n",
    "                detections = pickle.load(file)\n",
    "                for detection in detections:\n",
    "                    bbox_str = str(detection.bbox)\n",
    "                    coords_str = bbox_str[bbox_str.index('<')+1:bbox_str.index('>')].split(',')[0:4]\n",
    "                    x1, y1, x2, y2 = map(float, [coord.strip(\"()\") for coord in coords_str])\n",
    "                    x_center = (x1 + x2) / 2\n",
    "                    y_center = (y1 + y2) / 2\n",
    "                    width = x2 - x1\n",
    "                    height = y2 - y1\n",
    "                    label = detection.category.id\n",
    "                    if label in [0, 1, 2, 3, 5, 7]:\n",
    "                        score = detection.score.value*100\n",
    "                        data.append((filename.replace('.pickle', '.png'), x_center, y_center, width, height, label, score))\n",
    "                    \n",
    "    df = pd.DataFrame(data, columns=['name', 'x_center', 'y_center', 'width', 'height', 'label', 'score'])\n",
    "    return df\n",
    "\n",
    "\n"
   ]
  },
  {
   "cell_type": "code",
   "execution_count": 38,
   "metadata": {},
   "outputs": [
    {
     "data": {
      "text/html": [
       "<div>\n",
       "<style scoped>\n",
       "    .dataframe tbody tr th:only-of-type {\n",
       "        vertical-align: middle;\n",
       "    }\n",
       "\n",
       "    .dataframe tbody tr th {\n",
       "        vertical-align: top;\n",
       "    }\n",
       "\n",
       "    .dataframe thead th {\n",
       "        text-align: right;\n",
       "    }\n",
       "</style>\n",
       "<table border=\"1\" class=\"dataframe\">\n",
       "  <thead>\n",
       "    <tr style=\"text-align: right;\">\n",
       "      <th></th>\n",
       "      <th>name</th>\n",
       "      <th>x_center</th>\n",
       "      <th>y_center</th>\n",
       "      <th>width</th>\n",
       "      <th>height</th>\n",
       "      <th>label</th>\n",
       "      <th>score</th>\n",
       "    </tr>\n",
       "  </thead>\n",
       "  <tbody>\n",
       "    <tr>\n",
       "      <th>0</th>\n",
       "      <td>ab_car_berlin_day_008_001388.png</td>\n",
       "      <td>3027.845291</td>\n",
       "      <td>1155.479980</td>\n",
       "      <td>314.629242</td>\n",
       "      <td>746.993896</td>\n",
       "      <td>0</td>\n",
       "      <td>87.651783</td>\n",
       "    </tr>\n",
       "    <tr>\n",
       "      <th>1</th>\n",
       "      <td>ab_car_berlin_day_008_001388.png</td>\n",
       "      <td>1821.198303</td>\n",
       "      <td>975.181763</td>\n",
       "      <td>7.021484</td>\n",
       "      <td>13.009033</td>\n",
       "      <td>0</td>\n",
       "      <td>20.355320</td>\n",
       "    </tr>\n",
       "    <tr>\n",
       "      <th>2</th>\n",
       "      <td>ab_car_berlin_day_008_001388.png</td>\n",
       "      <td>1923.387573</td>\n",
       "      <td>985.423523</td>\n",
       "      <td>46.442871</td>\n",
       "      <td>78.175171</td>\n",
       "      <td>0</td>\n",
       "      <td>18.863863</td>\n",
       "    </tr>\n",
       "    <tr>\n",
       "      <th>3</th>\n",
       "      <td>ab_car_berlin_day_008_001388.png</td>\n",
       "      <td>1570.046188</td>\n",
       "      <td>976.193115</td>\n",
       "      <td>11.003204</td>\n",
       "      <td>11.707397</td>\n",
       "      <td>0</td>\n",
       "      <td>17.584760</td>\n",
       "    </tr>\n",
       "    <tr>\n",
       "      <th>4</th>\n",
       "      <td>ab_car_berlin_day_008_001388.png</td>\n",
       "      <td>1580.657791</td>\n",
       "      <td>979.381790</td>\n",
       "      <td>8.627289</td>\n",
       "      <td>9.791107</td>\n",
       "      <td>0</td>\n",
       "      <td>15.497713</td>\n",
       "    </tr>\n",
       "    <tr>\n",
       "      <th>...</th>\n",
       "      <td>...</td>\n",
       "      <td>...</td>\n",
       "      <td>...</td>\n",
       "      <td>...</td>\n",
       "      <td>...</td>\n",
       "      <td>...</td>\n",
       "      <td>...</td>\n",
       "    </tr>\n",
       "    <tr>\n",
       "      <th>466</th>\n",
       "      <td>1662987693538754.png</td>\n",
       "      <td>1979.311462</td>\n",
       "      <td>956.828094</td>\n",
       "      <td>20.140747</td>\n",
       "      <td>31.747986</td>\n",
       "      <td>7</td>\n",
       "      <td>25.276682</td>\n",
       "    </tr>\n",
       "    <tr>\n",
       "      <th>467</th>\n",
       "      <td>1662987693538754.png</td>\n",
       "      <td>2428.372131</td>\n",
       "      <td>995.715988</td>\n",
       "      <td>7.255005</td>\n",
       "      <td>69.325348</td>\n",
       "      <td>7</td>\n",
       "      <td>23.674451</td>\n",
       "    </tr>\n",
       "    <tr>\n",
       "      <th>468</th>\n",
       "      <td>1662987693538754.png</td>\n",
       "      <td>1930.180420</td>\n",
       "      <td>968.718323</td>\n",
       "      <td>32.652100</td>\n",
       "      <td>29.113892</td>\n",
       "      <td>7</td>\n",
       "      <td>23.395273</td>\n",
       "    </tr>\n",
       "    <tr>\n",
       "      <th>469</th>\n",
       "      <td>1662987693538754.png</td>\n",
       "      <td>1744.724640</td>\n",
       "      <td>883.909698</td>\n",
       "      <td>39.214050</td>\n",
       "      <td>27.399841</td>\n",
       "      <td>7</td>\n",
       "      <td>18.634638</td>\n",
       "    </tr>\n",
       "    <tr>\n",
       "      <th>470</th>\n",
       "      <td>1662987693538754.png</td>\n",
       "      <td>1956.734802</td>\n",
       "      <td>956.861755</td>\n",
       "      <td>10.389893</td>\n",
       "      <td>8.501953</td>\n",
       "      <td>7</td>\n",
       "      <td>18.268621</td>\n",
       "    </tr>\n",
       "  </tbody>\n",
       "</table>\n",
       "<p>471 rows × 7 columns</p>\n",
       "</div>"
      ],
      "text/plain": [
       "                                 name     x_center     y_center       width  \\\n",
       "0    ab_car_berlin_day_008_001388.png  3027.845291  1155.479980  314.629242   \n",
       "1    ab_car_berlin_day_008_001388.png  1821.198303   975.181763    7.021484   \n",
       "2    ab_car_berlin_day_008_001388.png  1923.387573   985.423523   46.442871   \n",
       "3    ab_car_berlin_day_008_001388.png  1570.046188   976.193115   11.003204   \n",
       "4    ab_car_berlin_day_008_001388.png  1580.657791   979.381790    8.627289   \n",
       "..                                ...          ...          ...         ...   \n",
       "466              1662987693538754.png  1979.311462   956.828094   20.140747   \n",
       "467              1662987693538754.png  2428.372131   995.715988    7.255005   \n",
       "468              1662987693538754.png  1930.180420   968.718323   32.652100   \n",
       "469              1662987693538754.png  1744.724640   883.909698   39.214050   \n",
       "470              1662987693538754.png  1956.734802   956.861755   10.389893   \n",
       "\n",
       "         height  label      score  \n",
       "0    746.993896      0  87.651783  \n",
       "1     13.009033      0  20.355320  \n",
       "2     78.175171      0  18.863863  \n",
       "3     11.707397      0  17.584760  \n",
       "4      9.791107      0  15.497713  \n",
       "..          ...    ...        ...  \n",
       "466   31.747986      7  25.276682  \n",
       "467   69.325348      7  23.674451  \n",
       "468   29.113892      7  23.395273  \n",
       "469   27.399841      7  18.634638  \n",
       "470    8.501953      7  18.268621  \n",
       "\n",
       "[471 rows x 7 columns]"
      ]
     },
     "execution_count": 38,
     "metadata": {},
     "output_type": "execute_result"
    }
   ],
   "source": [
    "pickles_dir = '/home/ubuntu/workspace/results/ab_car_validation_germany/riders/Co-DETR/2w_misses_codetr/pickles'\n",
    "df = parse_pickles_to_dataframe(pickles_dir)\n",
    "df"
   ]
  },
  {
   "cell_type": "code",
   "execution_count": null,
   "metadata": {},
   "outputs": [],
   "source": [
    "filter_classes = [1]\n",
    "\n",
    "filtered_object_prediction_list = [\n",
    "    pred for pred in result.object_prediction_list if pred.category.id in filter_classes\n",
    "]\n",
    "\n",
    "result.object_prediction_list = filtered_object_prediction_list"
   ]
  },
  {
   "cell_type": "code",
   "execution_count": 14,
   "metadata": {},
   "outputs": [],
   "source": [
    "results"
   ]
  },
  {
   "cell_type": "code",
   "execution_count": null,
   "metadata": {},
   "outputs": [],
   "source": []
  }
 ],
 "metadata": {
  "kernelspec": {
   "display_name": "openmmlab",
   "language": "python",
   "name": "python3"
  },
  "language_info": {
   "codemirror_mode": {
    "name": "ipython",
    "version": 3
   },
   "file_extension": ".py",
   "mimetype": "text/x-python",
   "name": "python",
   "nbconvert_exporter": "python",
   "pygments_lexer": "ipython3",
   "version": "3.8.17"
  },
  "orig_nbformat": 4
 },
 "nbformat": 4,
 "nbformat_minor": 2
}
